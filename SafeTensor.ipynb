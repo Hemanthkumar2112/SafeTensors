{
  "nbformat": 4,
  "nbformat_minor": 0,
  "metadata": {
    "colab": {
      "provenance": []
    },
    "kernelspec": {
      "name": "python3",
      "display_name": "Python 3"
    },
    "language_info": {
      "name": "python"
    },
    "widgets": {
      "application/vnd.jupyter.widget-state+json": {
        "bf10f597fa1148a2936997ad592510c0": {
          "model_module": "@jupyter-widgets/controls",
          "model_name": "HBoxModel",
          "model_module_version": "1.5.0",
          "state": {
            "_dom_classes": [],
            "_model_module": "@jupyter-widgets/controls",
            "_model_module_version": "1.5.0",
            "_model_name": "HBoxModel",
            "_view_count": null,
            "_view_module": "@jupyter-widgets/controls",
            "_view_module_version": "1.5.0",
            "_view_name": "HBoxView",
            "box_style": "",
            "children": [
              "IPY_MODEL_64d22855b62e41fba46f11a21b019c52",
              "IPY_MODEL_a1bbebd7228544f6a12aaa11f4b669df",
              "IPY_MODEL_088d05f236be4676bb8378e3dbdf4112"
            ],
            "layout": "IPY_MODEL_6ff0bfc8cae645a897a0153fa4995fa1"
          }
        },
        "64d22855b62e41fba46f11a21b019c52": {
          "model_module": "@jupyter-widgets/controls",
          "model_name": "HTMLModel",
          "model_module_version": "1.5.0",
          "state": {
            "_dom_classes": [],
            "_model_module": "@jupyter-widgets/controls",
            "_model_module_version": "1.5.0",
            "_model_name": "HTMLModel",
            "_view_count": null,
            "_view_module": "@jupyter-widgets/controls",
            "_view_module_version": "1.5.0",
            "_view_name": "HTMLView",
            "description": "",
            "description_tooltip": null,
            "layout": "IPY_MODEL_ffa8b927920449d7b52468885d36be30",
            "placeholder": "​",
            "style": "IPY_MODEL_3a39f9c06f1149cea68eb46ab1275c33",
            "value": "Downloading model.safetensors: 100%"
          }
        },
        "a1bbebd7228544f6a12aaa11f4b669df": {
          "model_module": "@jupyter-widgets/controls",
          "model_name": "FloatProgressModel",
          "model_module_version": "1.5.0",
          "state": {
            "_dom_classes": [],
            "_model_module": "@jupyter-widgets/controls",
            "_model_module_version": "1.5.0",
            "_model_name": "FloatProgressModel",
            "_view_count": null,
            "_view_module": "@jupyter-widgets/controls",
            "_view_module_version": "1.5.0",
            "_view_name": "ProgressView",
            "bar_style": "success",
            "description": "",
            "description_tooltip": null,
            "layout": "IPY_MODEL_bb8bda367a0447d2a4c8afdfbf552411",
            "max": 1944087136,
            "min": 0,
            "orientation": "horizontal",
            "style": "IPY_MODEL_a711f7beb59e447d8c71a030066f8beb",
            "value": 1944087136
          }
        },
        "088d05f236be4676bb8378e3dbdf4112": {
          "model_module": "@jupyter-widgets/controls",
          "model_name": "HTMLModel",
          "model_module_version": "1.5.0",
          "state": {
            "_dom_classes": [],
            "_model_module": "@jupyter-widgets/controls",
            "_model_module_version": "1.5.0",
            "_model_name": "HTMLModel",
            "_view_count": null,
            "_view_module": "@jupyter-widgets/controls",
            "_view_module_version": "1.5.0",
            "_view_name": "HTMLView",
            "description": "",
            "description_tooltip": null,
            "layout": "IPY_MODEL_d14d1ed51eec45c2b7bbc736991a9e5d",
            "placeholder": "​",
            "style": "IPY_MODEL_6d7dcfab053a45fda7b21f49790a5edd",
            "value": " 1.94G/1.94G [00:32&lt;00:00, 55.3MB/s]"
          }
        },
        "6ff0bfc8cae645a897a0153fa4995fa1": {
          "model_module": "@jupyter-widgets/base",
          "model_name": "LayoutModel",
          "model_module_version": "1.2.0",
          "state": {
            "_model_module": "@jupyter-widgets/base",
            "_model_module_version": "1.2.0",
            "_model_name": "LayoutModel",
            "_view_count": null,
            "_view_module": "@jupyter-widgets/base",
            "_view_module_version": "1.2.0",
            "_view_name": "LayoutView",
            "align_content": null,
            "align_items": null,
            "align_self": null,
            "border": null,
            "bottom": null,
            "display": null,
            "flex": null,
            "flex_flow": null,
            "grid_area": null,
            "grid_auto_columns": null,
            "grid_auto_flow": null,
            "grid_auto_rows": null,
            "grid_column": null,
            "grid_gap": null,
            "grid_row": null,
            "grid_template_areas": null,
            "grid_template_columns": null,
            "grid_template_rows": null,
            "height": null,
            "justify_content": null,
            "justify_items": null,
            "left": null,
            "margin": null,
            "max_height": null,
            "max_width": null,
            "min_height": null,
            "min_width": null,
            "object_fit": null,
            "object_position": null,
            "order": null,
            "overflow": null,
            "overflow_x": null,
            "overflow_y": null,
            "padding": null,
            "right": null,
            "top": null,
            "visibility": null,
            "width": null
          }
        },
        "ffa8b927920449d7b52468885d36be30": {
          "model_module": "@jupyter-widgets/base",
          "model_name": "LayoutModel",
          "model_module_version": "1.2.0",
          "state": {
            "_model_module": "@jupyter-widgets/base",
            "_model_module_version": "1.2.0",
            "_model_name": "LayoutModel",
            "_view_count": null,
            "_view_module": "@jupyter-widgets/base",
            "_view_module_version": "1.2.0",
            "_view_name": "LayoutView",
            "align_content": null,
            "align_items": null,
            "align_self": null,
            "border": null,
            "bottom": null,
            "display": null,
            "flex": null,
            "flex_flow": null,
            "grid_area": null,
            "grid_auto_columns": null,
            "grid_auto_flow": null,
            "grid_auto_rows": null,
            "grid_column": null,
            "grid_gap": null,
            "grid_row": null,
            "grid_template_areas": null,
            "grid_template_columns": null,
            "grid_template_rows": null,
            "height": null,
            "justify_content": null,
            "justify_items": null,
            "left": null,
            "margin": null,
            "max_height": null,
            "max_width": null,
            "min_height": null,
            "min_width": null,
            "object_fit": null,
            "object_position": null,
            "order": null,
            "overflow": null,
            "overflow_x": null,
            "overflow_y": null,
            "padding": null,
            "right": null,
            "top": null,
            "visibility": null,
            "width": null
          }
        },
        "3a39f9c06f1149cea68eb46ab1275c33": {
          "model_module": "@jupyter-widgets/controls",
          "model_name": "DescriptionStyleModel",
          "model_module_version": "1.5.0",
          "state": {
            "_model_module": "@jupyter-widgets/controls",
            "_model_module_version": "1.5.0",
            "_model_name": "DescriptionStyleModel",
            "_view_count": null,
            "_view_module": "@jupyter-widgets/base",
            "_view_module_version": "1.2.0",
            "_view_name": "StyleView",
            "description_width": ""
          }
        },
        "bb8bda367a0447d2a4c8afdfbf552411": {
          "model_module": "@jupyter-widgets/base",
          "model_name": "LayoutModel",
          "model_module_version": "1.2.0",
          "state": {
            "_model_module": "@jupyter-widgets/base",
            "_model_module_version": "1.2.0",
            "_model_name": "LayoutModel",
            "_view_count": null,
            "_view_module": "@jupyter-widgets/base",
            "_view_module_version": "1.2.0",
            "_view_name": "LayoutView",
            "align_content": null,
            "align_items": null,
            "align_self": null,
            "border": null,
            "bottom": null,
            "display": null,
            "flex": null,
            "flex_flow": null,
            "grid_area": null,
            "grid_auto_columns": null,
            "grid_auto_flow": null,
            "grid_auto_rows": null,
            "grid_column": null,
            "grid_gap": null,
            "grid_row": null,
            "grid_template_areas": null,
            "grid_template_columns": null,
            "grid_template_rows": null,
            "height": null,
            "justify_content": null,
            "justify_items": null,
            "left": null,
            "margin": null,
            "max_height": null,
            "max_width": null,
            "min_height": null,
            "min_width": null,
            "object_fit": null,
            "object_position": null,
            "order": null,
            "overflow": null,
            "overflow_x": null,
            "overflow_y": null,
            "padding": null,
            "right": null,
            "top": null,
            "visibility": null,
            "width": null
          }
        },
        "a711f7beb59e447d8c71a030066f8beb": {
          "model_module": "@jupyter-widgets/controls",
          "model_name": "ProgressStyleModel",
          "model_module_version": "1.5.0",
          "state": {
            "_model_module": "@jupyter-widgets/controls",
            "_model_module_version": "1.5.0",
            "_model_name": "ProgressStyleModel",
            "_view_count": null,
            "_view_module": "@jupyter-widgets/base",
            "_view_module_version": "1.2.0",
            "_view_name": "StyleView",
            "bar_color": null,
            "description_width": ""
          }
        },
        "d14d1ed51eec45c2b7bbc736991a9e5d": {
          "model_module": "@jupyter-widgets/base",
          "model_name": "LayoutModel",
          "model_module_version": "1.2.0",
          "state": {
            "_model_module": "@jupyter-widgets/base",
            "_model_module_version": "1.2.0",
            "_model_name": "LayoutModel",
            "_view_count": null,
            "_view_module": "@jupyter-widgets/base",
            "_view_module_version": "1.2.0",
            "_view_name": "LayoutView",
            "align_content": null,
            "align_items": null,
            "align_self": null,
            "border": null,
            "bottom": null,
            "display": null,
            "flex": null,
            "flex_flow": null,
            "grid_area": null,
            "grid_auto_columns": null,
            "grid_auto_flow": null,
            "grid_auto_rows": null,
            "grid_column": null,
            "grid_gap": null,
            "grid_row": null,
            "grid_template_areas": null,
            "grid_template_columns": null,
            "grid_template_rows": null,
            "height": null,
            "justify_content": null,
            "justify_items": null,
            "left": null,
            "margin": null,
            "max_height": null,
            "max_width": null,
            "min_height": null,
            "min_width": null,
            "object_fit": null,
            "object_position": null,
            "order": null,
            "overflow": null,
            "overflow_x": null,
            "overflow_y": null,
            "padding": null,
            "right": null,
            "top": null,
            "visibility": null,
            "width": null
          }
        },
        "6d7dcfab053a45fda7b21f49790a5edd": {
          "model_module": "@jupyter-widgets/controls",
          "model_name": "DescriptionStyleModel",
          "model_module_version": "1.5.0",
          "state": {
            "_model_module": "@jupyter-widgets/controls",
            "_model_module_version": "1.5.0",
            "_model_name": "DescriptionStyleModel",
            "_view_count": null,
            "_view_module": "@jupyter-widgets/base",
            "_view_module_version": "1.2.0",
            "_view_name": "StyleView",
            "description_width": ""
          }
        }
      }
    }
  },
  "cells": [
    {
      "cell_type": "code",
      "execution_count": null,
      "metadata": {
        "id": "cs5aEyrc1mLz"
      },
      "outputs": [],
      "source": [
        "!pip install safetensors huggingface_hub"
      ]
    },
    {
      "cell_type": "code",
      "source": [
        "import os\n",
        "import datetime\n",
        "from huggingface_hub import hf_hub_download\n",
        "from safetensors.torch import load_file\n",
        "import torch"
      ],
      "metadata": {
        "id": "SOF1qJK91puk"
      },
      "execution_count": 4,
      "outputs": []
    },
    {
      "cell_type": "code",
      "source": [
        "sf_filename = hf_hub_download(\"Hemanth-thunder/english-tamil-mt\", filename=\"model.safetensors\")"
      ],
      "metadata": {
        "colab": {
          "base_uri": "https://localhost:8080/",
          "height": 49,
          "referenced_widgets": [
            "bf10f597fa1148a2936997ad592510c0",
            "64d22855b62e41fba46f11a21b019c52",
            "a1bbebd7228544f6a12aaa11f4b669df",
            "088d05f236be4676bb8378e3dbdf4112",
            "6ff0bfc8cae645a897a0153fa4995fa1",
            "ffa8b927920449d7b52468885d36be30",
            "3a39f9c06f1149cea68eb46ab1275c33",
            "bb8bda367a0447d2a4c8afdfbf552411",
            "a711f7beb59e447d8c71a030066f8beb",
            "d14d1ed51eec45c2b7bbc736991a9e5d",
            "6d7dcfab053a45fda7b21f49790a5edd"
          ]
        },
        "id": "QFYFfXP81xdr",
        "outputId": "39bb3571-722f-42ed-aa08-f9b10969cd80"
      },
      "execution_count": 5,
      "outputs": [
        {
          "output_type": "display_data",
          "data": {
            "text/plain": [
              "Downloading model.safetensors:   0%|          | 0.00/1.94G [00:00<?, ?B/s]"
            ],
            "application/vnd.jupyter.widget-view+json": {
              "version_major": 2,
              "version_minor": 0,
              "model_id": "bf10f597fa1148a2936997ad592510c0"
            }
          },
          "metadata": {}
        }
      ]
    },
    {
      "cell_type": "code",
      "source": [
        "%%time\n",
        "#CPU\n",
        "weights = load_file(sf_filename, device=\"cpu\")"
      ],
      "metadata": {
        "colab": {
          "base_uri": "https://localhost:8080/"
        },
        "id": "gFgXVfqj163Q",
        "outputId": "80afd672-67cc-478c-dda0-c3c14335cd2a"
      },
      "execution_count": 7,
      "outputs": [
        {
          "output_type": "stream",
          "name": "stdout",
          "text": [
            "CPU times: user 43.2 ms, sys: 1.51 ms, total: 44.7 ms\n",
            "Wall time: 46.8 ms\n"
          ]
        }
      ]
    },
    {
      "cell_type": "code",
      "source": [
        "#GPU\n",
        "# import os\n",
        "# os.environ[\"SAFETENSORS_FAST_GPU\"] = \"1\"\n",
        "# weights = load_file(sf_filename, device=\"cuda:0\")"
      ],
      "metadata": {
        "id": "zY5mS90u2Dby"
      },
      "execution_count": null,
      "outputs": []
    },
    {
      "cell_type": "markdown",
      "source": [
        "**What are shared tensors ?**\n",
        "\n",
        "Pytorch uses shared tensors for some computation. This is extremely interesting to reduce memory usage in general.\n",
        "\n",
        "  One very classic use case is in transformers the embeddings are shared with lm_head. By using the same matrix, the model uses less parameters, and gradients flow much better to the embeddings (which is the start of the model, so they don’t flow easily there, whereas lm_head is at the tail of the model, so gradients are extremely good over there, since they are the same tensors, they both benefit)\n",
        "  \n",
        "  [**Reference**](https://huggingface.co/docs/safetensors/torch_shared_tensors)"
      ],
      "metadata": {
        "id": "-p0HeCfy3dRc"
      }
    },
    {
      "cell_type": "markdown",
      "source": [
        "**Why use safetensors?**\n",
        "\n",
        "\n",
        "There are several reasons for using safetensors:\n",
        "\n",
        "Safety is the number one reason for using safetensors. As open-source and model distribution grows, it is important to be able to trust the model weights you downloaded don’t contain any malicious code. The current size of the header in safetensors prevents parsing extremely large JSON files.\n",
        "\n",
        "**Loading speed between switching models is another reason to use safetensors, which performs zero-copy of the tensors. It is especially fast compared to pickle if you’re loading the weights to CPU (the default case), and just as fast if not faster when directly loading the weights to GPU. You’ll only notice the performance difference if the model is already loaded, and not if you’re downloading the weights or loading the model for the first time.**"
      ],
      "metadata": {
        "id": "0MW0IiP15GsD"
      }
    },
    {
      "cell_type": "code",
      "source": [
        "from torch import nn\n",
        "\n",
        "class Model(nn.Module):\n",
        "    def __init__(self):\n",
        "        super().__init__()\n",
        "        self.a = nn.Linear(100, 100)\n",
        "        self.b = self.a\n",
        "\n",
        "    def forward(self, x):\n",
        "        return self.b(self.a(x))\n",
        "\n",
        "\n",
        "model = Model()\n",
        "print(model.state_dict())\n",
        "# odict_keys(['a.weight', 'a.bias', 'b.weight', 'b.bias'])\n",
        "torch.save(model.state_dict(), \"model.bin\")"
      ],
      "metadata": {
        "colab": {
          "base_uri": "https://localhost:8080/"
        },
        "id": "qiid8psx4F5s",
        "outputId": "ff2947be-01fa-4980-fb9f-01bfd899f94f"
      },
      "execution_count": 8,
      "outputs": [
        {
          "output_type": "stream",
          "name": "stdout",
          "text": [
            "OrderedDict([('a.weight', tensor([[-0.0862,  0.0058,  0.0389,  ...,  0.0844, -0.0018,  0.0467],\n",
            "        [ 0.0200,  0.0528,  0.0032,  ...,  0.0813,  0.0509, -0.0989],\n",
            "        [-0.0105, -0.0430, -0.0419,  ..., -0.0306,  0.0349, -0.0247],\n",
            "        ...,\n",
            "        [-0.0941, -0.0816, -0.0313,  ...,  0.0551, -0.0587, -0.0344],\n",
            "        [ 0.0577,  0.0479, -0.0511,  ..., -0.0925,  0.0016,  0.0836],\n",
            "        [ 0.0156, -0.0355, -0.0717,  ..., -0.0229,  0.0640, -0.0159]])), ('a.bias', tensor([-0.0718, -0.0711,  0.0794, -0.0062, -0.0094, -0.0452,  0.0605,  0.0963,\n",
            "         0.0775,  0.0407, -0.0050,  0.0241, -0.0531,  0.0522,  0.0532,  0.0058,\n",
            "        -0.0876, -0.0511,  0.0277, -0.0252,  0.0430,  0.0438, -0.0970,  0.0951,\n",
            "        -0.0373,  0.0141, -0.0117, -0.0667,  0.0976,  0.0041,  0.0248,  0.0287,\n",
            "         0.0127,  0.0681,  0.0041,  0.0093,  0.0413,  0.0350, -0.0622, -0.0340,\n",
            "        -0.0622, -0.0421, -0.0385,  0.0329, -0.0830,  0.0395, -0.0651, -0.0237,\n",
            "         0.0333,  0.0803, -0.0546, -0.0240, -0.0646, -0.0162,  0.0162, -0.0134,\n",
            "        -0.0774, -0.0541, -0.0574,  0.0562,  0.0098, -0.0339,  0.0820,  0.0718,\n",
            "         0.0643, -0.0359, -0.0404,  0.0714, -0.0939, -0.0289,  0.0782,  0.0401,\n",
            "         0.0607, -0.0036,  0.0889,  0.0927, -0.0035,  0.0612,  0.0101, -0.0444,\n",
            "        -0.0790,  0.0854,  0.0559,  0.0565,  0.0942,  0.0330, -0.0309,  0.0872,\n",
            "         0.0064, -0.0759, -0.0823, -0.0009,  0.0630, -0.0116,  0.0860, -0.0276,\n",
            "        -0.0302,  0.0125, -0.0273, -0.0826])), ('b.weight', tensor([[-0.0862,  0.0058,  0.0389,  ...,  0.0844, -0.0018,  0.0467],\n",
            "        [ 0.0200,  0.0528,  0.0032,  ...,  0.0813,  0.0509, -0.0989],\n",
            "        [-0.0105, -0.0430, -0.0419,  ..., -0.0306,  0.0349, -0.0247],\n",
            "        ...,\n",
            "        [-0.0941, -0.0816, -0.0313,  ...,  0.0551, -0.0587, -0.0344],\n",
            "        [ 0.0577,  0.0479, -0.0511,  ..., -0.0925,  0.0016,  0.0836],\n",
            "        [ 0.0156, -0.0355, -0.0717,  ..., -0.0229,  0.0640, -0.0159]])), ('b.bias', tensor([-0.0718, -0.0711,  0.0794, -0.0062, -0.0094, -0.0452,  0.0605,  0.0963,\n",
            "         0.0775,  0.0407, -0.0050,  0.0241, -0.0531,  0.0522,  0.0532,  0.0058,\n",
            "        -0.0876, -0.0511,  0.0277, -0.0252,  0.0430,  0.0438, -0.0970,  0.0951,\n",
            "        -0.0373,  0.0141, -0.0117, -0.0667,  0.0976,  0.0041,  0.0248,  0.0287,\n",
            "         0.0127,  0.0681,  0.0041,  0.0093,  0.0413,  0.0350, -0.0622, -0.0340,\n",
            "        -0.0622, -0.0421, -0.0385,  0.0329, -0.0830,  0.0395, -0.0651, -0.0237,\n",
            "         0.0333,  0.0803, -0.0546, -0.0240, -0.0646, -0.0162,  0.0162, -0.0134,\n",
            "        -0.0774, -0.0541, -0.0574,  0.0562,  0.0098, -0.0339,  0.0820,  0.0718,\n",
            "         0.0643, -0.0359, -0.0404,  0.0714, -0.0939, -0.0289,  0.0782,  0.0401,\n",
            "         0.0607, -0.0036,  0.0889,  0.0927, -0.0035,  0.0612,  0.0101, -0.0444,\n",
            "        -0.0790,  0.0854,  0.0559,  0.0565,  0.0942,  0.0330, -0.0309,  0.0872,\n",
            "         0.0064, -0.0759, -0.0823, -0.0009,  0.0630, -0.0116,  0.0860, -0.0276,\n",
            "        -0.0302,  0.0125, -0.0273, -0.0826]))])\n"
          ]
        }
      ]
    },
    {
      "cell_type": "code",
      "source": [],
      "metadata": {
        "id": "ZKp9xP3G4JIa"
      },
      "execution_count": null,
      "outputs": []
    }
  ]
}